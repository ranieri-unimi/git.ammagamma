{
  "cells": [
    {
      "cell_type": "markdown",
      "metadata": {
        "id": "view-in-github",
        "colab_type": "text"
      },
      "source": [
        "<a href=\"https://colab.research.google.com/github/ranieri-unimi/git.ammagamma/blob/main/SOLUTION.ipynb\" target=\"_parent\"><img src=\"https://colab.research.google.com/assets/colab-badge.svg\" alt=\"Open In Colab\"/></a>"
      ]
    },
    {
      "cell_type": "code",
      "source": [
        "!cd /content\n",
        "%cd /content"
      ],
      "metadata": {
        "id": "IVAwCjovgXGk"
      },
      "execution_count": null,
      "outputs": []
    },
    {
      "cell_type": "code",
      "execution_count": null,
      "metadata": {
        "id": "FjdSfytkO30n"
      },
      "outputs": [],
      "source": [
        "!pip install spacy-nightly --pre"
      ]
    },
    {
      "cell_type": "code",
      "execution_count": null,
      "metadata": {
        "id": "MyKK8ROgQwDJ"
      },
      "outputs": [],
      "source": [
        "!pip install -U pip setuptools wheel"
      ]
    },
    {
      "cell_type": "code",
      "execution_count": null,
      "metadata": {
        "id": "p0O7OmXHRbaG"
      },
      "outputs": [],
      "source": [
        "!pip install -U spacy transformers"
      ]
    },
    {
      "cell_type": "code",
      "execution_count": null,
      "metadata": {
        "id": "gTvvKjIbDfxm"
      },
      "outputs": [],
      "source": [
        "!git clone https://github.com/explosion/projects.git spacy-projects"
      ]
    },
    {
      "cell_type": "code",
      "source": [
        "!cp -r /content/spacy-projects/tutorials/textcat_goemotions/* /content"
      ],
      "metadata": {
        "id": "k2MxqRnqlRHC"
      },
      "execution_count": null,
      "outputs": []
    },
    {
      "cell_type": "code",
      "execution_count": null,
      "metadata": {
        "id": "7f9FRuUTRg1c"
      },
      "outputs": [],
      "source": [
        "!spacy project assets"
      ]
    },
    {
      "cell_type": "code",
      "execution_count": null,
      "metadata": {
        "id": "-3yma_DPSBfT"
      },
      "outputs": [],
      "source": [
        "!spacy project run preprocess"
      ]
    },
    {
      "cell_type": "code",
      "execution_count": null,
      "metadata": {
        "id": "Gs2nJiMGSSkH"
      },
      "outputs": [],
      "source": [
        "!spacy project run train"
      ]
    },
    {
      "cell_type": "code",
      "execution_count": null,
      "metadata": {
        "id": "vsUFT-TZWnUR"
      },
      "outputs": [],
      "source": [
        "!spacy project run evaluate"
      ]
    },
    {
      "cell_type": "code",
      "execution_count": null,
      "metadata": {
        "id": "tP9ZWIoJXGmy"
      },
      "outputs": [],
      "source": [
        "import spacy\n",
        "nlp = spacy.load(\"./training/cnn/model-best\")\n",
        "\n",
        "# texts = [\n",
        "#     \"It was really bad to watch you leave, hopefully you'll be back soon\",\n",
        "#     \"Oh yes, I can relate to that. Still, you'd better think about it twice.\",\n",
        "# ]\n",
        "\n",
        "# for doc in nlp.pipe(texts):\n",
        "#     # Do something with the doc here\n",
        "#     print(doc.cats)"
      ]
    },
    {
      "cell_type": "code",
      "execution_count": null,
      "metadata": {
        "id": "oOpT4WY7rIT6"
      },
      "outputs": [],
      "source": [
        "import requests\n",
        "from bs4 import BeautifulSoup\n",
        "\n",
        "offset = 0\n",
        "max_offset = 1649\n",
        "offset_increment = 12\n",
        "\n",
        "BASE_URL = 'http://www.forexrate.co.uk/'"
      ]
    },
    {
      "cell_type": "code",
      "source": [
        "news_archive = []\n",
        "\n",
        "for i in range(0,max_offset,offset_increment):\n",
        "  url = f'http://www.forexrate.co.uk/newsarchive.php?q=EURUSD&start={i}'\n",
        "  print(url)\n",
        "  page = requests.get(url)\n",
        "  soup = BeautifulSoup(page.content, 'html.parser')\n",
        "  tables = soup.findChildren('table')\n",
        "  news_table = tables[1]\n",
        "  rows = news_table.findChildren(['th', 'tr'])\n",
        "\n",
        "  for idx,row in enumerate(rows):\n",
        "    if idx == 0:\n",
        "        continue\n",
        "    cells = row.findChildren('td')\n",
        "    for idx,cell in enumerate(cells):\n",
        "      txt = cell.text\n",
        "      href = cell.find('a')['href']\n",
        "      href = BASE_URL + href.replace('./','')\n",
        "      if \"newsarchive.php?start=\" in href:\n",
        "        continue\n",
        "      # let's get the date of the article\n",
        "      date_page = requests.get(href)\n",
        "      date_soup = BeautifulSoup(date_page.content, 'html.parser')\n",
        "      date_div = date_soup.findChildren('div')[3]\n",
        "      date_str = date_div.text\n",
        "      news_archive.append({'txt':txt,'url':href,'date':date_str})\n",
        "      # print(len(news_archive), date_str, {'txt':txt,'url':href,'date':date_str})\n",
        "      #print(value, href)\n",
        "  #print(len(news_archive))\n",
        "\n",
        "#print(news_archive)"
      ],
      "metadata": {
        "id": "P6QT4POKwS3j"
      },
      "execution_count": null,
      "outputs": []
    },
    {
      "cell_type": "code",
      "source": [
        "import pandas as pd\n",
        "from datetime import date"
      ],
      "metadata": {
        "id": "9dj-Z_wfxGTX"
      },
      "execution_count": null,
      "outputs": []
    },
    {
      "cell_type": "code",
      "source": [
        "df = pd.DataFrame(news_archive)\n",
        "df.date = pd.to_datetime(df.date)\n",
        "df.date = df.date.apply(lambda x : x.date())\n",
        "df = df.drop(columns='url')\n",
        "df"
      ],
      "metadata": {
        "id": "OdTz0UGezRTV"
      },
      "execution_count": null,
      "outputs": []
    },
    {
      "cell_type": "code",
      "source": [
        "sa = pd.DataFrame([doc.cats for doc in nlp.pipe(df.txt)])"
      ],
      "metadata": {
        "id": "fwqLDLJu1LN3"
      },
      "execution_count": null,
      "outputs": []
    },
    {
      "cell_type": "code",
      "source": [
        "ds = pd.concat([df, sa], axis=1)\n",
        "ds = ds.groupby('date').mean()"
      ],
      "metadata": {
        "id": "s40pIPUG2MqT"
      },
      "execution_count": null,
      "outputs": []
    },
    {
      "cell_type": "code",
      "source": [
        "ds = ds.set_index('date')"
      ],
      "metadata": {
        "id": "GlL5sc57-xoC"
      },
      "execution_count": null,
      "outputs": []
    },
    {
      "cell_type": "code",
      "metadata": {
        "id": "EwFp4-iSjX5y"
      },
      "source": [
        "# *IMPORT LIBRARIES USED*\n",
        "\n",
        "!pip install fbprophet\n",
        "!pip install yfinance\n",
        "\n",
        "from fbprophet import Prophet\n",
        "from datetime import date\n",
        "from scipy import stats\n",
        "import statsmodels.api as sm\n",
        "import pandas as pd\n",
        "import numpy as np\n",
        "import yfinance as yf\n",
        "import plotly.express as px\n",
        "from plotly import graph_objects as go\n",
        "import matplotlib.pyplot as plt\n",
        "import seaborn as sns\n",
        "import scipy\n",
        "import time"
      ],
      "execution_count": null,
      "outputs": []
    },
    {
      "cell_type": "code",
      "metadata": {
        "id": "Ky8KtpNYnMtS"
      },
      "source": [
        "start = ds.date.min()\n",
        "end = date.today()\n",
        "#custom_end = pd.to_datetime('2022-05-22')\n",
        "#end = custom_end"
      ],
      "execution_count": null,
      "outputs": []
    },
    {
      "cell_type": "code",
      "metadata": {
        "id": "-KsTwz5bk8jB"
      },
      "source": [
        "# In yfinance\n",
        "tickers_to_download = ['EURUSD=X', 'GBPUSD=X', 'USDCHF=X', 'USDJPY=X', 'EURJPY=X', 'USDCAD=X', 'AUDUSD=X']"
      ],
      "execution_count": null,
      "outputs": []
    },
    {
      "cell_type": "code",
      "metadata": {
        "id": "GPFxKKgupWb0"
      },
      "source": [
        "forex_df_list = []\n",
        "\n",
        "for ticker in tickers_to_download:\n",
        "  ts = yf.download(ticker, start, end)['Close']\n",
        "  ts = ts.rename(ticker.lower().split('=', 1)[0] + '_close')\n",
        "  forex_df_list.append(ts)\n",
        "\n",
        "forex_df = pd.concat(forex_df_list, axis=1)"
      ],
      "execution_count": null,
      "outputs": []
    },
    {
      "cell_type": "code",
      "metadata": {
        "id": "nJa6VHFTBG69"
      },
      "source": [
        "forex_df = forex_df.reset_index().rename(columns={'Date':'date'}).set_index('date')"
      ],
      "execution_count": null,
      "outputs": []
    },
    {
      "cell_type": "code",
      "source": [
        "forex_df = pd.merge(forex_df, ds, left_index=True, right_index=True)"
      ],
      "metadata": {
        "id": "UgImTWW__fVJ"
      },
      "execution_count": null,
      "outputs": []
    },
    {
      "cell_type": "code",
      "source": [
        "del forex_df['txt']"
      ],
      "metadata": {
        "id": "1daPtarc_0hr"
      },
      "execution_count": null,
      "outputs": []
    },
    {
      "cell_type": "code",
      "source": [
        "forex_df.tail()"
      ],
      "metadata": {
        "id": "1iZqvSRz0aM4"
      },
      "execution_count": null,
      "outputs": []
    },
    {
      "cell_type": "code",
      "metadata": {
        "id": "dpJH81AB0aM5"
      },
      "source": [
        "# define test and train window\n",
        "train_window =  ['2010-01-03','2020-10-31']\n",
        "test_window =  ['2020-11-01','2021-06-10']"
      ],
      "execution_count": null,
      "outputs": []
    },
    {
      "cell_type": "code",
      "source": [
        "forex_df = forex_df.reset_index().rename(columns={'eurusd_close':'y', 'date':'ds'})"
      ],
      "metadata": {
        "id": "JkmlRW4UAGdk"
      },
      "execution_count": null,
      "outputs": []
    },
    {
      "cell_type": "code",
      "source": [
        "# forex_df.reset_index().info()"
      ],
      "metadata": {
        "id": "co-LKEzEAki3"
      },
      "execution_count": null,
      "outputs": []
    },
    {
      "cell_type": "code",
      "metadata": {
        "id": "SaVd68vg0aM5"
      },
      "source": [
        "# # create train and test dataset\n",
        "# train = forex_df[train_window[0]:train_window[1]]\n",
        "# test = forex_df[test_window[0]:test_window[1]]"
      ],
      "execution_count": null,
      "outputs": []
    },
    {
      "cell_type": "code",
      "source": [
        "train, test = np.split(forex_df, [int(.85*len(df))])"
      ],
      "metadata": {
        "id": "1LULkFdWDLCp"
      },
      "execution_count": 157,
      "outputs": []
    },
    {
      "cell_type": "code",
      "source": [
        "regressors = list(forex_df.columns[2:])"
      ],
      "metadata": {
        "id": "1dawdw7YEkRa"
      },
      "execution_count": 158,
      "outputs": []
    },
    {
      "cell_type": "code",
      "source": [
        "forex_df.head()"
      ],
      "metadata": {
        "id": "Xlo7kqfnE-lI",
        "outputId": "64144c85-7ac4-49f7-8b03-149417eede9a",
        "colab": {
          "base_uri": "https://localhost:8080/",
          "height": 386
        }
      },
      "execution_count": 159,
      "outputs": [
        {
          "output_type": "execute_result",
          "data": {
            "text/plain": [
              "          ds         y  gbpusd_close  usdchf_close  usdjpy_close  \\\n",
              "0 2019-01-07  1.141044      1.273496       0.98576    108.522003   \n",
              "1 2019-01-07  1.141044      1.273496       0.98576    108.522003   \n",
              "2 2019-01-08  1.147974      1.278609       0.97910    108.615997   \n",
              "3 2019-01-08  1.147974      1.278609       0.97910    108.615997   \n",
              "4 2019-01-10  1.155495      1.279967       0.97395    108.189003   \n",
              "\n",
              "   eurjpy_close  usdcad_close  audusd_close  admiration  amusement  ...  \\\n",
              "0    123.820999       1.33693      0.712378    0.013909   0.024614  ...   \n",
              "1    123.820999       1.33693      0.712378    0.147116   0.014729  ...   \n",
              "2    124.660004       1.32960      0.714592    0.140054   0.008203  ...   \n",
              "3    124.660004       1.32960      0.714592    0.013495   0.036074  ...   \n",
              "4    125.014999       1.32115      0.717566    0.026616   0.023812  ...   \n",
              "\n",
              "       love  nervousness  optimism     pride  realization    relief   remorse  \\\n",
              "0  0.015424     0.006933  0.067459  0.002112     0.032476  0.005597  0.022079   \n",
              "1  0.001864     0.004434  0.022855  0.001970     0.014547  0.003824  0.009326   \n",
              "2  0.010851     0.006127  0.116855  0.004616     0.024335  0.006465  0.023158   \n",
              "3  0.009748     0.006055  0.026199  0.003437     0.049715  0.005762  0.020900   \n",
              "4  0.011638     0.002862  0.050510  0.001437     0.013197  0.003104  0.031731   \n",
              "\n",
              "    sadness  surprise   neutral  \n",
              "0  0.022016  0.022829  0.537924  \n",
              "1  0.011078  0.175425  0.449918  \n",
              "2  0.008795  0.029969  0.251205  \n",
              "3  0.008569  0.043234  0.373623  \n",
              "4  0.012535  0.024738  0.953293  \n",
              "\n",
              "[5 rows x 36 columns]"
            ],
            "text/html": [
              "\n",
              "  <div id=\"df-921a2fcf-6cb0-453a-a2f0-a1f5df86c496\">\n",
              "    <div class=\"colab-df-container\">\n",
              "      <div>\n",
              "<style scoped>\n",
              "    .dataframe tbody tr th:only-of-type {\n",
              "        vertical-align: middle;\n",
              "    }\n",
              "\n",
              "    .dataframe tbody tr th {\n",
              "        vertical-align: top;\n",
              "    }\n",
              "\n",
              "    .dataframe thead th {\n",
              "        text-align: right;\n",
              "    }\n",
              "</style>\n",
              "<table border=\"1\" class=\"dataframe\">\n",
              "  <thead>\n",
              "    <tr style=\"text-align: right;\">\n",
              "      <th></th>\n",
              "      <th>ds</th>\n",
              "      <th>y</th>\n",
              "      <th>gbpusd_close</th>\n",
              "      <th>usdchf_close</th>\n",
              "      <th>usdjpy_close</th>\n",
              "      <th>eurjpy_close</th>\n",
              "      <th>usdcad_close</th>\n",
              "      <th>audusd_close</th>\n",
              "      <th>admiration</th>\n",
              "      <th>amusement</th>\n",
              "      <th>...</th>\n",
              "      <th>love</th>\n",
              "      <th>nervousness</th>\n",
              "      <th>optimism</th>\n",
              "      <th>pride</th>\n",
              "      <th>realization</th>\n",
              "      <th>relief</th>\n",
              "      <th>remorse</th>\n",
              "      <th>sadness</th>\n",
              "      <th>surprise</th>\n",
              "      <th>neutral</th>\n",
              "    </tr>\n",
              "  </thead>\n",
              "  <tbody>\n",
              "    <tr>\n",
              "      <th>0</th>\n",
              "      <td>2019-01-07</td>\n",
              "      <td>1.141044</td>\n",
              "      <td>1.273496</td>\n",
              "      <td>0.98576</td>\n",
              "      <td>108.522003</td>\n",
              "      <td>123.820999</td>\n",
              "      <td>1.33693</td>\n",
              "      <td>0.712378</td>\n",
              "      <td>0.013909</td>\n",
              "      <td>0.024614</td>\n",
              "      <td>...</td>\n",
              "      <td>0.015424</td>\n",
              "      <td>0.006933</td>\n",
              "      <td>0.067459</td>\n",
              "      <td>0.002112</td>\n",
              "      <td>0.032476</td>\n",
              "      <td>0.005597</td>\n",
              "      <td>0.022079</td>\n",
              "      <td>0.022016</td>\n",
              "      <td>0.022829</td>\n",
              "      <td>0.537924</td>\n",
              "    </tr>\n",
              "    <tr>\n",
              "      <th>1</th>\n",
              "      <td>2019-01-07</td>\n",
              "      <td>1.141044</td>\n",
              "      <td>1.273496</td>\n",
              "      <td>0.98576</td>\n",
              "      <td>108.522003</td>\n",
              "      <td>123.820999</td>\n",
              "      <td>1.33693</td>\n",
              "      <td>0.712378</td>\n",
              "      <td>0.147116</td>\n",
              "      <td>0.014729</td>\n",
              "      <td>...</td>\n",
              "      <td>0.001864</td>\n",
              "      <td>0.004434</td>\n",
              "      <td>0.022855</td>\n",
              "      <td>0.001970</td>\n",
              "      <td>0.014547</td>\n",
              "      <td>0.003824</td>\n",
              "      <td>0.009326</td>\n",
              "      <td>0.011078</td>\n",
              "      <td>0.175425</td>\n",
              "      <td>0.449918</td>\n",
              "    </tr>\n",
              "    <tr>\n",
              "      <th>2</th>\n",
              "      <td>2019-01-08</td>\n",
              "      <td>1.147974</td>\n",
              "      <td>1.278609</td>\n",
              "      <td>0.97910</td>\n",
              "      <td>108.615997</td>\n",
              "      <td>124.660004</td>\n",
              "      <td>1.32960</td>\n",
              "      <td>0.714592</td>\n",
              "      <td>0.140054</td>\n",
              "      <td>0.008203</td>\n",
              "      <td>...</td>\n",
              "      <td>0.010851</td>\n",
              "      <td>0.006127</td>\n",
              "      <td>0.116855</td>\n",
              "      <td>0.004616</td>\n",
              "      <td>0.024335</td>\n",
              "      <td>0.006465</td>\n",
              "      <td>0.023158</td>\n",
              "      <td>0.008795</td>\n",
              "      <td>0.029969</td>\n",
              "      <td>0.251205</td>\n",
              "    </tr>\n",
              "    <tr>\n",
              "      <th>3</th>\n",
              "      <td>2019-01-08</td>\n",
              "      <td>1.147974</td>\n",
              "      <td>1.278609</td>\n",
              "      <td>0.97910</td>\n",
              "      <td>108.615997</td>\n",
              "      <td>124.660004</td>\n",
              "      <td>1.32960</td>\n",
              "      <td>0.714592</td>\n",
              "      <td>0.013495</td>\n",
              "      <td>0.036074</td>\n",
              "      <td>...</td>\n",
              "      <td>0.009748</td>\n",
              "      <td>0.006055</td>\n",
              "      <td>0.026199</td>\n",
              "      <td>0.003437</td>\n",
              "      <td>0.049715</td>\n",
              "      <td>0.005762</td>\n",
              "      <td>0.020900</td>\n",
              "      <td>0.008569</td>\n",
              "      <td>0.043234</td>\n",
              "      <td>0.373623</td>\n",
              "    </tr>\n",
              "    <tr>\n",
              "      <th>4</th>\n",
              "      <td>2019-01-10</td>\n",
              "      <td>1.155495</td>\n",
              "      <td>1.279967</td>\n",
              "      <td>0.97395</td>\n",
              "      <td>108.189003</td>\n",
              "      <td>125.014999</td>\n",
              "      <td>1.32115</td>\n",
              "      <td>0.717566</td>\n",
              "      <td>0.026616</td>\n",
              "      <td>0.023812</td>\n",
              "      <td>...</td>\n",
              "      <td>0.011638</td>\n",
              "      <td>0.002862</td>\n",
              "      <td>0.050510</td>\n",
              "      <td>0.001437</td>\n",
              "      <td>0.013197</td>\n",
              "      <td>0.003104</td>\n",
              "      <td>0.031731</td>\n",
              "      <td>0.012535</td>\n",
              "      <td>0.024738</td>\n",
              "      <td>0.953293</td>\n",
              "    </tr>\n",
              "  </tbody>\n",
              "</table>\n",
              "<p>5 rows × 36 columns</p>\n",
              "</div>\n",
              "      <button class=\"colab-df-convert\" onclick=\"convertToInteractive('df-921a2fcf-6cb0-453a-a2f0-a1f5df86c496')\"\n",
              "              title=\"Convert this dataframe to an interactive table.\"\n",
              "              style=\"display:none;\">\n",
              "        \n",
              "  <svg xmlns=\"http://www.w3.org/2000/svg\" height=\"24px\"viewBox=\"0 0 24 24\"\n",
              "       width=\"24px\">\n",
              "    <path d=\"M0 0h24v24H0V0z\" fill=\"none\"/>\n",
              "    <path d=\"M18.56 5.44l.94 2.06.94-2.06 2.06-.94-2.06-.94-.94-2.06-.94 2.06-2.06.94zm-11 1L8.5 8.5l.94-2.06 2.06-.94-2.06-.94L8.5 2.5l-.94 2.06-2.06.94zm10 10l.94 2.06.94-2.06 2.06-.94-2.06-.94-.94-2.06-.94 2.06-2.06.94z\"/><path d=\"M17.41 7.96l-1.37-1.37c-.4-.4-.92-.59-1.43-.59-.52 0-1.04.2-1.43.59L10.3 9.45l-7.72 7.72c-.78.78-.78 2.05 0 2.83L4 21.41c.39.39.9.59 1.41.59.51 0 1.02-.2 1.41-.59l7.78-7.78 2.81-2.81c.8-.78.8-2.07 0-2.86zM5.41 20L4 18.59l7.72-7.72 1.47 1.35L5.41 20z\"/>\n",
              "  </svg>\n",
              "      </button>\n",
              "      \n",
              "  <style>\n",
              "    .colab-df-container {\n",
              "      display:flex;\n",
              "      flex-wrap:wrap;\n",
              "      gap: 12px;\n",
              "    }\n",
              "\n",
              "    .colab-df-convert {\n",
              "      background-color: #E8F0FE;\n",
              "      border: none;\n",
              "      border-radius: 50%;\n",
              "      cursor: pointer;\n",
              "      display: none;\n",
              "      fill: #1967D2;\n",
              "      height: 32px;\n",
              "      padding: 0 0 0 0;\n",
              "      width: 32px;\n",
              "    }\n",
              "\n",
              "    .colab-df-convert:hover {\n",
              "      background-color: #E2EBFA;\n",
              "      box-shadow: 0px 1px 2px rgba(60, 64, 67, 0.3), 0px 1px 3px 1px rgba(60, 64, 67, 0.15);\n",
              "      fill: #174EA6;\n",
              "    }\n",
              "\n",
              "    [theme=dark] .colab-df-convert {\n",
              "      background-color: #3B4455;\n",
              "      fill: #D2E3FC;\n",
              "    }\n",
              "\n",
              "    [theme=dark] .colab-df-convert:hover {\n",
              "      background-color: #434B5C;\n",
              "      box-shadow: 0px 1px 3px 1px rgba(0, 0, 0, 0.15);\n",
              "      filter: drop-shadow(0px 1px 2px rgba(0, 0, 0, 0.3));\n",
              "      fill: #FFFFFF;\n",
              "    }\n",
              "  </style>\n",
              "\n",
              "      <script>\n",
              "        const buttonEl =\n",
              "          document.querySelector('#df-921a2fcf-6cb0-453a-a2f0-a1f5df86c496 button.colab-df-convert');\n",
              "        buttonEl.style.display =\n",
              "          google.colab.kernel.accessAllowed ? 'block' : 'none';\n",
              "\n",
              "        async function convertToInteractive(key) {\n",
              "          const element = document.querySelector('#df-921a2fcf-6cb0-453a-a2f0-a1f5df86c496');\n",
              "          const dataTable =\n",
              "            await google.colab.kernel.invokeFunction('convertToInteractive',\n",
              "                                                     [key], {});\n",
              "          if (!dataTable) return;\n",
              "\n",
              "          const docLinkHtml = 'Like what you see? Visit the ' +\n",
              "            '<a target=\"_blank\" href=https://colab.research.google.com/notebooks/data_table.ipynb>data table notebook</a>'\n",
              "            + ' to learn more about interactive tables.';\n",
              "          element.innerHTML = '';\n",
              "          dataTable['output_type'] = 'display_data';\n",
              "          await google.colab.output.renderOutput(dataTable, element);\n",
              "          const docLink = document.createElement('div');\n",
              "          docLink.innerHTML = docLinkHtml;\n",
              "          element.appendChild(docLink);\n",
              "        }\n",
              "      </script>\n",
              "    </div>\n",
              "  </div>\n",
              "  "
            ]
          },
          "metadata": {},
          "execution_count": 159
        }
      ]
    },
    {
      "cell_type": "code",
      "source": [
        "forex_df[['ds', 'y']+['optimism', 'neutral', 'surprise']]"
      ],
      "metadata": {
        "id": "D7-rccDzG5ke",
        "outputId": "9ed4e40b-78d0-444f-8016-0a2faa4d5baa",
        "colab": {
          "base_uri": "https://localhost:8080/",
          "height": 424
        }
      },
      "execution_count": 166,
      "outputs": [
        {
          "output_type": "execute_result",
          "data": {
            "text/plain": [
              "             ds         y  optimism   neutral  surprise\n",
              "0    2019-01-07  1.141044  0.067459  0.537924  0.022829\n",
              "1    2019-01-07  1.141044  0.022855  0.449918  0.175425\n",
              "2    2019-01-08  1.147974  0.116855  0.251205  0.029969\n",
              "3    2019-01-08  1.147974  0.026199  0.373623  0.043234\n",
              "4    2019-01-10  1.155495  0.050510  0.953293  0.024738\n",
              "...         ...       ...       ...       ...       ...\n",
              "1411 2022-05-31  1.077354  0.039978  0.807200  0.050262\n",
              "1412 2022-06-01  1.073411  0.037371  0.318391  0.061833\n",
              "1413 2022-06-01  1.073411  0.028222  0.968630  0.018864\n",
              "1414 2022-06-06  1.072605  0.021322  0.455397  0.043727\n",
              "1415 2022-06-06  1.072605  0.055887  0.776205  0.056556\n",
              "\n",
              "[1416 rows x 5 columns]"
            ],
            "text/html": [
              "\n",
              "  <div id=\"df-2458afa2-5b48-4346-9695-cf40d5a8dc81\">\n",
              "    <div class=\"colab-df-container\">\n",
              "      <div>\n",
              "<style scoped>\n",
              "    .dataframe tbody tr th:only-of-type {\n",
              "        vertical-align: middle;\n",
              "    }\n",
              "\n",
              "    .dataframe tbody tr th {\n",
              "        vertical-align: top;\n",
              "    }\n",
              "\n",
              "    .dataframe thead th {\n",
              "        text-align: right;\n",
              "    }\n",
              "</style>\n",
              "<table border=\"1\" class=\"dataframe\">\n",
              "  <thead>\n",
              "    <tr style=\"text-align: right;\">\n",
              "      <th></th>\n",
              "      <th>ds</th>\n",
              "      <th>y</th>\n",
              "      <th>optimism</th>\n",
              "      <th>neutral</th>\n",
              "      <th>surprise</th>\n",
              "    </tr>\n",
              "  </thead>\n",
              "  <tbody>\n",
              "    <tr>\n",
              "      <th>0</th>\n",
              "      <td>2019-01-07</td>\n",
              "      <td>1.141044</td>\n",
              "      <td>0.067459</td>\n",
              "      <td>0.537924</td>\n",
              "      <td>0.022829</td>\n",
              "    </tr>\n",
              "    <tr>\n",
              "      <th>1</th>\n",
              "      <td>2019-01-07</td>\n",
              "      <td>1.141044</td>\n",
              "      <td>0.022855</td>\n",
              "      <td>0.449918</td>\n",
              "      <td>0.175425</td>\n",
              "    </tr>\n",
              "    <tr>\n",
              "      <th>2</th>\n",
              "      <td>2019-01-08</td>\n",
              "      <td>1.147974</td>\n",
              "      <td>0.116855</td>\n",
              "      <td>0.251205</td>\n",
              "      <td>0.029969</td>\n",
              "    </tr>\n",
              "    <tr>\n",
              "      <th>3</th>\n",
              "      <td>2019-01-08</td>\n",
              "      <td>1.147974</td>\n",
              "      <td>0.026199</td>\n",
              "      <td>0.373623</td>\n",
              "      <td>0.043234</td>\n",
              "    </tr>\n",
              "    <tr>\n",
              "      <th>4</th>\n",
              "      <td>2019-01-10</td>\n",
              "      <td>1.155495</td>\n",
              "      <td>0.050510</td>\n",
              "      <td>0.953293</td>\n",
              "      <td>0.024738</td>\n",
              "    </tr>\n",
              "    <tr>\n",
              "      <th>...</th>\n",
              "      <td>...</td>\n",
              "      <td>...</td>\n",
              "      <td>...</td>\n",
              "      <td>...</td>\n",
              "      <td>...</td>\n",
              "    </tr>\n",
              "    <tr>\n",
              "      <th>1411</th>\n",
              "      <td>2022-05-31</td>\n",
              "      <td>1.077354</td>\n",
              "      <td>0.039978</td>\n",
              "      <td>0.807200</td>\n",
              "      <td>0.050262</td>\n",
              "    </tr>\n",
              "    <tr>\n",
              "      <th>1412</th>\n",
              "      <td>2022-06-01</td>\n",
              "      <td>1.073411</td>\n",
              "      <td>0.037371</td>\n",
              "      <td>0.318391</td>\n",
              "      <td>0.061833</td>\n",
              "    </tr>\n",
              "    <tr>\n",
              "      <th>1413</th>\n",
              "      <td>2022-06-01</td>\n",
              "      <td>1.073411</td>\n",
              "      <td>0.028222</td>\n",
              "      <td>0.968630</td>\n",
              "      <td>0.018864</td>\n",
              "    </tr>\n",
              "    <tr>\n",
              "      <th>1414</th>\n",
              "      <td>2022-06-06</td>\n",
              "      <td>1.072605</td>\n",
              "      <td>0.021322</td>\n",
              "      <td>0.455397</td>\n",
              "      <td>0.043727</td>\n",
              "    </tr>\n",
              "    <tr>\n",
              "      <th>1415</th>\n",
              "      <td>2022-06-06</td>\n",
              "      <td>1.072605</td>\n",
              "      <td>0.055887</td>\n",
              "      <td>0.776205</td>\n",
              "      <td>0.056556</td>\n",
              "    </tr>\n",
              "  </tbody>\n",
              "</table>\n",
              "<p>1416 rows × 5 columns</p>\n",
              "</div>\n",
              "      <button class=\"colab-df-convert\" onclick=\"convertToInteractive('df-2458afa2-5b48-4346-9695-cf40d5a8dc81')\"\n",
              "              title=\"Convert this dataframe to an interactive table.\"\n",
              "              style=\"display:none;\">\n",
              "        \n",
              "  <svg xmlns=\"http://www.w3.org/2000/svg\" height=\"24px\"viewBox=\"0 0 24 24\"\n",
              "       width=\"24px\">\n",
              "    <path d=\"M0 0h24v24H0V0z\" fill=\"none\"/>\n",
              "    <path d=\"M18.56 5.44l.94 2.06.94-2.06 2.06-.94-2.06-.94-.94-2.06-.94 2.06-2.06.94zm-11 1L8.5 8.5l.94-2.06 2.06-.94-2.06-.94L8.5 2.5l-.94 2.06-2.06.94zm10 10l.94 2.06.94-2.06 2.06-.94-2.06-.94-.94-2.06-.94 2.06-2.06.94z\"/><path d=\"M17.41 7.96l-1.37-1.37c-.4-.4-.92-.59-1.43-.59-.52 0-1.04.2-1.43.59L10.3 9.45l-7.72 7.72c-.78.78-.78 2.05 0 2.83L4 21.41c.39.39.9.59 1.41.59.51 0 1.02-.2 1.41-.59l7.78-7.78 2.81-2.81c.8-.78.8-2.07 0-2.86zM5.41 20L4 18.59l7.72-7.72 1.47 1.35L5.41 20z\"/>\n",
              "  </svg>\n",
              "      </button>\n",
              "      \n",
              "  <style>\n",
              "    .colab-df-container {\n",
              "      display:flex;\n",
              "      flex-wrap:wrap;\n",
              "      gap: 12px;\n",
              "    }\n",
              "\n",
              "    .colab-df-convert {\n",
              "      background-color: #E8F0FE;\n",
              "      border: none;\n",
              "      border-radius: 50%;\n",
              "      cursor: pointer;\n",
              "      display: none;\n",
              "      fill: #1967D2;\n",
              "      height: 32px;\n",
              "      padding: 0 0 0 0;\n",
              "      width: 32px;\n",
              "    }\n",
              "\n",
              "    .colab-df-convert:hover {\n",
              "      background-color: #E2EBFA;\n",
              "      box-shadow: 0px 1px 2px rgba(60, 64, 67, 0.3), 0px 1px 3px 1px rgba(60, 64, 67, 0.15);\n",
              "      fill: #174EA6;\n",
              "    }\n",
              "\n",
              "    [theme=dark] .colab-df-convert {\n",
              "      background-color: #3B4455;\n",
              "      fill: #D2E3FC;\n",
              "    }\n",
              "\n",
              "    [theme=dark] .colab-df-convert:hover {\n",
              "      background-color: #434B5C;\n",
              "      box-shadow: 0px 1px 3px 1px rgba(0, 0, 0, 0.15);\n",
              "      filter: drop-shadow(0px 1px 2px rgba(0, 0, 0, 0.3));\n",
              "      fill: #FFFFFF;\n",
              "    }\n",
              "  </style>\n",
              "\n",
              "      <script>\n",
              "        const buttonEl =\n",
              "          document.querySelector('#df-2458afa2-5b48-4346-9695-cf40d5a8dc81 button.colab-df-convert');\n",
              "        buttonEl.style.display =\n",
              "          google.colab.kernel.accessAllowed ? 'block' : 'none';\n",
              "\n",
              "        async function convertToInteractive(key) {\n",
              "          const element = document.querySelector('#df-2458afa2-5b48-4346-9695-cf40d5a8dc81');\n",
              "          const dataTable =\n",
              "            await google.colab.kernel.invokeFunction('convertToInteractive',\n",
              "                                                     [key], {});\n",
              "          if (!dataTable) return;\n",
              "\n",
              "          const docLinkHtml = 'Like what you see? Visit the ' +\n",
              "            '<a target=\"_blank\" href=https://colab.research.google.com/notebooks/data_table.ipynb>data table notebook</a>'\n",
              "            + ' to learn more about interactive tables.';\n",
              "          element.innerHTML = '';\n",
              "          dataTable['output_type'] = 'display_data';\n",
              "          await google.colab.output.renderOutput(dataTable, element);\n",
              "          const docLink = document.createElement('div');\n",
              "          docLink.innerHTML = docLinkHtml;\n",
              "          element.appendChild(docLink);\n",
              "        }\n",
              "      </script>\n",
              "    </div>\n",
              "  </div>\n",
              "  "
            ]
          },
          "metadata": {},
          "execution_count": 166
        }
      ]
    },
    {
      "cell_type": "code",
      "metadata": {
        "colab": {
          "base_uri": "https://localhost:8080/"
        },
        "outputId": "6d303927-6894-48db-cd07-82b89a4e9b12",
        "id": "_8VbjfGL0aM6"
      },
      "source": [
        "m = Prophet()\n",
        "for r in regressors:\n",
        "  m.add_regressor(r)\n",
        "m.fit(train)"
      ],
      "execution_count": 160,
      "outputs": [
        {
          "output_type": "stream",
          "name": "stderr",
          "text": [
            "INFO:fbprophet:Disabling daily seasonality. Run prophet with daily_seasonality=True to override this.\n"
          ]
        },
        {
          "output_type": "execute_result",
          "data": {
            "text/plain": [
              "<fbprophet.forecaster.Prophet at 0x7f942d929890>"
            ]
          },
          "metadata": {},
          "execution_count": 160
        }
      ]
    },
    {
      "cell_type": "code",
      "source": [
        "future = m.make_future_dataframe(20, freq='B')"
      ],
      "metadata": {
        "id": "9c55Cblr0aM7"
      },
      "execution_count": 161,
      "outputs": []
    },
    {
      "cell_type": "code",
      "source": [
        "future"
      ],
      "metadata": {
        "colab": {
          "base_uri": "https://localhost:8080/",
          "height": 424
        },
        "outputId": "fccde26a-81a9-454c-95e1-b6ffa7a946c1",
        "id": "U3ztXTNS0aM7"
      },
      "execution_count": 162,
      "outputs": [
        {
          "output_type": "execute_result",
          "data": {
            "text/plain": [
              "            ds\n",
              "0   2019-01-07\n",
              "1   2019-01-08\n",
              "2   2019-01-10\n",
              "3   2019-01-11\n",
              "4   2019-02-05\n",
              "..         ...\n",
              "712 2022-06-14\n",
              "713 2022-06-15\n",
              "714 2022-06-16\n",
              "715 2022-06-17\n",
              "716 2022-06-20\n",
              "\n",
              "[717 rows x 1 columns]"
            ],
            "text/html": [
              "\n",
              "  <div id=\"df-94423c76-a54e-42a5-98d4-4310cf02c0a0\">\n",
              "    <div class=\"colab-df-container\">\n",
              "      <div>\n",
              "<style scoped>\n",
              "    .dataframe tbody tr th:only-of-type {\n",
              "        vertical-align: middle;\n",
              "    }\n",
              "\n",
              "    .dataframe tbody tr th {\n",
              "        vertical-align: top;\n",
              "    }\n",
              "\n",
              "    .dataframe thead th {\n",
              "        text-align: right;\n",
              "    }\n",
              "</style>\n",
              "<table border=\"1\" class=\"dataframe\">\n",
              "  <thead>\n",
              "    <tr style=\"text-align: right;\">\n",
              "      <th></th>\n",
              "      <th>ds</th>\n",
              "    </tr>\n",
              "  </thead>\n",
              "  <tbody>\n",
              "    <tr>\n",
              "      <th>0</th>\n",
              "      <td>2019-01-07</td>\n",
              "    </tr>\n",
              "    <tr>\n",
              "      <th>1</th>\n",
              "      <td>2019-01-08</td>\n",
              "    </tr>\n",
              "    <tr>\n",
              "      <th>2</th>\n",
              "      <td>2019-01-10</td>\n",
              "    </tr>\n",
              "    <tr>\n",
              "      <th>3</th>\n",
              "      <td>2019-01-11</td>\n",
              "    </tr>\n",
              "    <tr>\n",
              "      <th>4</th>\n",
              "      <td>2019-02-05</td>\n",
              "    </tr>\n",
              "    <tr>\n",
              "      <th>...</th>\n",
              "      <td>...</td>\n",
              "    </tr>\n",
              "    <tr>\n",
              "      <th>712</th>\n",
              "      <td>2022-06-14</td>\n",
              "    </tr>\n",
              "    <tr>\n",
              "      <th>713</th>\n",
              "      <td>2022-06-15</td>\n",
              "    </tr>\n",
              "    <tr>\n",
              "      <th>714</th>\n",
              "      <td>2022-06-16</td>\n",
              "    </tr>\n",
              "    <tr>\n",
              "      <th>715</th>\n",
              "      <td>2022-06-17</td>\n",
              "    </tr>\n",
              "    <tr>\n",
              "      <th>716</th>\n",
              "      <td>2022-06-20</td>\n",
              "    </tr>\n",
              "  </tbody>\n",
              "</table>\n",
              "<p>717 rows × 1 columns</p>\n",
              "</div>\n",
              "      <button class=\"colab-df-convert\" onclick=\"convertToInteractive('df-94423c76-a54e-42a5-98d4-4310cf02c0a0')\"\n",
              "              title=\"Convert this dataframe to an interactive table.\"\n",
              "              style=\"display:none;\">\n",
              "        \n",
              "  <svg xmlns=\"http://www.w3.org/2000/svg\" height=\"24px\"viewBox=\"0 0 24 24\"\n",
              "       width=\"24px\">\n",
              "    <path d=\"M0 0h24v24H0V0z\" fill=\"none\"/>\n",
              "    <path d=\"M18.56 5.44l.94 2.06.94-2.06 2.06-.94-2.06-.94-.94-2.06-.94 2.06-2.06.94zm-11 1L8.5 8.5l.94-2.06 2.06-.94-2.06-.94L8.5 2.5l-.94 2.06-2.06.94zm10 10l.94 2.06.94-2.06 2.06-.94-2.06-.94-.94-2.06-.94 2.06-2.06.94z\"/><path d=\"M17.41 7.96l-1.37-1.37c-.4-.4-.92-.59-1.43-.59-.52 0-1.04.2-1.43.59L10.3 9.45l-7.72 7.72c-.78.78-.78 2.05 0 2.83L4 21.41c.39.39.9.59 1.41.59.51 0 1.02-.2 1.41-.59l7.78-7.78 2.81-2.81c.8-.78.8-2.07 0-2.86zM5.41 20L4 18.59l7.72-7.72 1.47 1.35L5.41 20z\"/>\n",
              "  </svg>\n",
              "      </button>\n",
              "      \n",
              "  <style>\n",
              "    .colab-df-container {\n",
              "      display:flex;\n",
              "      flex-wrap:wrap;\n",
              "      gap: 12px;\n",
              "    }\n",
              "\n",
              "    .colab-df-convert {\n",
              "      background-color: #E8F0FE;\n",
              "      border: none;\n",
              "      border-radius: 50%;\n",
              "      cursor: pointer;\n",
              "      display: none;\n",
              "      fill: #1967D2;\n",
              "      height: 32px;\n",
              "      padding: 0 0 0 0;\n",
              "      width: 32px;\n",
              "    }\n",
              "\n",
              "    .colab-df-convert:hover {\n",
              "      background-color: #E2EBFA;\n",
              "      box-shadow: 0px 1px 2px rgba(60, 64, 67, 0.3), 0px 1px 3px 1px rgba(60, 64, 67, 0.15);\n",
              "      fill: #174EA6;\n",
              "    }\n",
              "\n",
              "    [theme=dark] .colab-df-convert {\n",
              "      background-color: #3B4455;\n",
              "      fill: #D2E3FC;\n",
              "    }\n",
              "\n",
              "    [theme=dark] .colab-df-convert:hover {\n",
              "      background-color: #434B5C;\n",
              "      box-shadow: 0px 1px 3px 1px rgba(0, 0, 0, 0.15);\n",
              "      filter: drop-shadow(0px 1px 2px rgba(0, 0, 0, 0.3));\n",
              "      fill: #FFFFFF;\n",
              "    }\n",
              "  </style>\n",
              "\n",
              "      <script>\n",
              "        const buttonEl =\n",
              "          document.querySelector('#df-94423c76-a54e-42a5-98d4-4310cf02c0a0 button.colab-df-convert');\n",
              "        buttonEl.style.display =\n",
              "          google.colab.kernel.accessAllowed ? 'block' : 'none';\n",
              "\n",
              "        async function convertToInteractive(key) {\n",
              "          const element = document.querySelector('#df-94423c76-a54e-42a5-98d4-4310cf02c0a0');\n",
              "          const dataTable =\n",
              "            await google.colab.kernel.invokeFunction('convertToInteractive',\n",
              "                                                     [key], {});\n",
              "          if (!dataTable) return;\n",
              "\n",
              "          const docLinkHtml = 'Like what you see? Visit the ' +\n",
              "            '<a target=\"_blank\" href=https://colab.research.google.com/notebooks/data_table.ipynb>data table notebook</a>'\n",
              "            + ' to learn more about interactive tables.';\n",
              "          element.innerHTML = '';\n",
              "          dataTable['output_type'] = 'display_data';\n",
              "          await google.colab.output.renderOutput(dataTable, element);\n",
              "          const docLink = document.createElement('div');\n",
              "          docLink.innerHTML = docLinkHtml;\n",
              "          element.appendChild(docLink);\n",
              "        }\n",
              "      </script>\n",
              "    </div>\n",
              "  </div>\n",
              "  "
            ]
          },
          "metadata": {},
          "execution_count": 162
        }
      ]
    },
    {
      "cell_type": "code",
      "metadata": {
        "id": "iSaHKMb_0aM7"
      },
      "source": [
        "future = m.make_future_dataframe(20, freq='B') # Explain B\n",
        "forecast = m.predict(future)\n",
        "\n",
        "forecast_results = forecast[['ds', 'yhat', 'yhat_lower', 'yhat_upper']].tail(20)\n",
        "forecast_results.set_index('ds', inplace=True)"
      ],
      "execution_count": null,
      "outputs": []
    },
    {
      "cell_type": "code",
      "metadata": {
        "colab": {
          "base_uri": "https://localhost:8080/",
          "height": 708
        },
        "outputId": "f350ce3c-aa39-4588-b788-0da5706e3902",
        "id": "BfjaiVaZ0aM8"
      },
      "source": [
        "forecast_results"
      ],
      "execution_count": 164,
      "outputs": [
        {
          "output_type": "execute_result",
          "data": {
            "text/plain": [
              "                yhat  yhat_lower  yhat_upper\n",
              "ds                                          \n",
              "2022-05-24  1.051035    1.041655    1.059854\n",
              "2022-05-25  1.050938    1.041495    1.060102\n",
              "2022-05-26  1.050566    1.042229    1.059582\n",
              "2022-05-27  1.050172    1.040252    1.059871\n",
              "2022-05-30  1.049108    1.040475    1.058641\n",
              "2022-05-31  1.048723    1.039545    1.057769\n",
              "2022-06-01  1.048395    1.039592    1.058334\n",
              "2022-06-02  1.047756    1.038899    1.057108\n",
              "2022-06-03  1.047063    1.038257    1.056536\n",
              "2022-06-06  1.044937    1.036200    1.054406\n",
              "2022-06-07  1.044154    1.034749    1.053439\n",
              "2022-06-08  1.043413    1.033808    1.053313\n",
              "2022-06-09  1.042347    1.032844    1.052445\n",
              "2022-06-10  1.041219    1.031237    1.051134\n",
              "2022-06-13  1.037761    1.026948    1.048217\n",
              "2022-06-14  1.036537    1.026379    1.047118\n",
              "2022-06-15  1.035360    1.025248    1.046714\n",
              "2022-06-16  1.033868    1.022916    1.045823\n",
              "2022-06-17  1.032326    1.022600    1.043621\n",
              "2022-06-20  1.027734    1.016075    1.039385"
            ],
            "text/html": [
              "\n",
              "  <div id=\"df-f154fe48-fb8b-410a-9525-393e1cf4c160\">\n",
              "    <div class=\"colab-df-container\">\n",
              "      <div>\n",
              "<style scoped>\n",
              "    .dataframe tbody tr th:only-of-type {\n",
              "        vertical-align: middle;\n",
              "    }\n",
              "\n",
              "    .dataframe tbody tr th {\n",
              "        vertical-align: top;\n",
              "    }\n",
              "\n",
              "    .dataframe thead th {\n",
              "        text-align: right;\n",
              "    }\n",
              "</style>\n",
              "<table border=\"1\" class=\"dataframe\">\n",
              "  <thead>\n",
              "    <tr style=\"text-align: right;\">\n",
              "      <th></th>\n",
              "      <th>yhat</th>\n",
              "      <th>yhat_lower</th>\n",
              "      <th>yhat_upper</th>\n",
              "    </tr>\n",
              "    <tr>\n",
              "      <th>ds</th>\n",
              "      <th></th>\n",
              "      <th></th>\n",
              "      <th></th>\n",
              "    </tr>\n",
              "  </thead>\n",
              "  <tbody>\n",
              "    <tr>\n",
              "      <th>2022-05-24</th>\n",
              "      <td>1.051035</td>\n",
              "      <td>1.041655</td>\n",
              "      <td>1.059854</td>\n",
              "    </tr>\n",
              "    <tr>\n",
              "      <th>2022-05-25</th>\n",
              "      <td>1.050938</td>\n",
              "      <td>1.041495</td>\n",
              "      <td>1.060102</td>\n",
              "    </tr>\n",
              "    <tr>\n",
              "      <th>2022-05-26</th>\n",
              "      <td>1.050566</td>\n",
              "      <td>1.042229</td>\n",
              "      <td>1.059582</td>\n",
              "    </tr>\n",
              "    <tr>\n",
              "      <th>2022-05-27</th>\n",
              "      <td>1.050172</td>\n",
              "      <td>1.040252</td>\n",
              "      <td>1.059871</td>\n",
              "    </tr>\n",
              "    <tr>\n",
              "      <th>2022-05-30</th>\n",
              "      <td>1.049108</td>\n",
              "      <td>1.040475</td>\n",
              "      <td>1.058641</td>\n",
              "    </tr>\n",
              "    <tr>\n",
              "      <th>2022-05-31</th>\n",
              "      <td>1.048723</td>\n",
              "      <td>1.039545</td>\n",
              "      <td>1.057769</td>\n",
              "    </tr>\n",
              "    <tr>\n",
              "      <th>2022-06-01</th>\n",
              "      <td>1.048395</td>\n",
              "      <td>1.039592</td>\n",
              "      <td>1.058334</td>\n",
              "    </tr>\n",
              "    <tr>\n",
              "      <th>2022-06-02</th>\n",
              "      <td>1.047756</td>\n",
              "      <td>1.038899</td>\n",
              "      <td>1.057108</td>\n",
              "    </tr>\n",
              "    <tr>\n",
              "      <th>2022-06-03</th>\n",
              "      <td>1.047063</td>\n",
              "      <td>1.038257</td>\n",
              "      <td>1.056536</td>\n",
              "    </tr>\n",
              "    <tr>\n",
              "      <th>2022-06-06</th>\n",
              "      <td>1.044937</td>\n",
              "      <td>1.036200</td>\n",
              "      <td>1.054406</td>\n",
              "    </tr>\n",
              "    <tr>\n",
              "      <th>2022-06-07</th>\n",
              "      <td>1.044154</td>\n",
              "      <td>1.034749</td>\n",
              "      <td>1.053439</td>\n",
              "    </tr>\n",
              "    <tr>\n",
              "      <th>2022-06-08</th>\n",
              "      <td>1.043413</td>\n",
              "      <td>1.033808</td>\n",
              "      <td>1.053313</td>\n",
              "    </tr>\n",
              "    <tr>\n",
              "      <th>2022-06-09</th>\n",
              "      <td>1.042347</td>\n",
              "      <td>1.032844</td>\n",
              "      <td>1.052445</td>\n",
              "    </tr>\n",
              "    <tr>\n",
              "      <th>2022-06-10</th>\n",
              "      <td>1.041219</td>\n",
              "      <td>1.031237</td>\n",
              "      <td>1.051134</td>\n",
              "    </tr>\n",
              "    <tr>\n",
              "      <th>2022-06-13</th>\n",
              "      <td>1.037761</td>\n",
              "      <td>1.026948</td>\n",
              "      <td>1.048217</td>\n",
              "    </tr>\n",
              "    <tr>\n",
              "      <th>2022-06-14</th>\n",
              "      <td>1.036537</td>\n",
              "      <td>1.026379</td>\n",
              "      <td>1.047118</td>\n",
              "    </tr>\n",
              "    <tr>\n",
              "      <th>2022-06-15</th>\n",
              "      <td>1.035360</td>\n",
              "      <td>1.025248</td>\n",
              "      <td>1.046714</td>\n",
              "    </tr>\n",
              "    <tr>\n",
              "      <th>2022-06-16</th>\n",
              "      <td>1.033868</td>\n",
              "      <td>1.022916</td>\n",
              "      <td>1.045823</td>\n",
              "    </tr>\n",
              "    <tr>\n",
              "      <th>2022-06-17</th>\n",
              "      <td>1.032326</td>\n",
              "      <td>1.022600</td>\n",
              "      <td>1.043621</td>\n",
              "    </tr>\n",
              "    <tr>\n",
              "      <th>2022-06-20</th>\n",
              "      <td>1.027734</td>\n",
              "      <td>1.016075</td>\n",
              "      <td>1.039385</td>\n",
              "    </tr>\n",
              "  </tbody>\n",
              "</table>\n",
              "</div>\n",
              "      <button class=\"colab-df-convert\" onclick=\"convertToInteractive('df-f154fe48-fb8b-410a-9525-393e1cf4c160')\"\n",
              "              title=\"Convert this dataframe to an interactive table.\"\n",
              "              style=\"display:none;\">\n",
              "        \n",
              "  <svg xmlns=\"http://www.w3.org/2000/svg\" height=\"24px\"viewBox=\"0 0 24 24\"\n",
              "       width=\"24px\">\n",
              "    <path d=\"M0 0h24v24H0V0z\" fill=\"none\"/>\n",
              "    <path d=\"M18.56 5.44l.94 2.06.94-2.06 2.06-.94-2.06-.94-.94-2.06-.94 2.06-2.06.94zm-11 1L8.5 8.5l.94-2.06 2.06-.94-2.06-.94L8.5 2.5l-.94 2.06-2.06.94zm10 10l.94 2.06.94-2.06 2.06-.94-2.06-.94-.94-2.06-.94 2.06-2.06.94z\"/><path d=\"M17.41 7.96l-1.37-1.37c-.4-.4-.92-.59-1.43-.59-.52 0-1.04.2-1.43.59L10.3 9.45l-7.72 7.72c-.78.78-.78 2.05 0 2.83L4 21.41c.39.39.9.59 1.41.59.51 0 1.02-.2 1.41-.59l7.78-7.78 2.81-2.81c.8-.78.8-2.07 0-2.86zM5.41 20L4 18.59l7.72-7.72 1.47 1.35L5.41 20z\"/>\n",
              "  </svg>\n",
              "      </button>\n",
              "      \n",
              "  <style>\n",
              "    .colab-df-container {\n",
              "      display:flex;\n",
              "      flex-wrap:wrap;\n",
              "      gap: 12px;\n",
              "    }\n",
              "\n",
              "    .colab-df-convert {\n",
              "      background-color: #E8F0FE;\n",
              "      border: none;\n",
              "      border-radius: 50%;\n",
              "      cursor: pointer;\n",
              "      display: none;\n",
              "      fill: #1967D2;\n",
              "      height: 32px;\n",
              "      padding: 0 0 0 0;\n",
              "      width: 32px;\n",
              "    }\n",
              "\n",
              "    .colab-df-convert:hover {\n",
              "      background-color: #E2EBFA;\n",
              "      box-shadow: 0px 1px 2px rgba(60, 64, 67, 0.3), 0px 1px 3px 1px rgba(60, 64, 67, 0.15);\n",
              "      fill: #174EA6;\n",
              "    }\n",
              "\n",
              "    [theme=dark] .colab-df-convert {\n",
              "      background-color: #3B4455;\n",
              "      fill: #D2E3FC;\n",
              "    }\n",
              "\n",
              "    [theme=dark] .colab-df-convert:hover {\n",
              "      background-color: #434B5C;\n",
              "      box-shadow: 0px 1px 3px 1px rgba(0, 0, 0, 0.15);\n",
              "      filter: drop-shadow(0px 1px 2px rgba(0, 0, 0, 0.3));\n",
              "      fill: #FFFFFF;\n",
              "    }\n",
              "  </style>\n",
              "\n",
              "      <script>\n",
              "        const buttonEl =\n",
              "          document.querySelector('#df-f154fe48-fb8b-410a-9525-393e1cf4c160 button.colab-df-convert');\n",
              "        buttonEl.style.display =\n",
              "          google.colab.kernel.accessAllowed ? 'block' : 'none';\n",
              "\n",
              "        async function convertToInteractive(key) {\n",
              "          const element = document.querySelector('#df-f154fe48-fb8b-410a-9525-393e1cf4c160');\n",
              "          const dataTable =\n",
              "            await google.colab.kernel.invokeFunction('convertToInteractive',\n",
              "                                                     [key], {});\n",
              "          if (!dataTable) return;\n",
              "\n",
              "          const docLinkHtml = 'Like what you see? Visit the ' +\n",
              "            '<a target=\"_blank\" href=https://colab.research.google.com/notebooks/data_table.ipynb>data table notebook</a>'\n",
              "            + ' to learn more about interactive tables.';\n",
              "          element.innerHTML = '';\n",
              "          dataTable['output_type'] = 'display_data';\n",
              "          await google.colab.output.renderOutput(dataTable, element);\n",
              "          const docLink = document.createElement('div');\n",
              "          docLink.innerHTML = docLinkHtml;\n",
              "          element.appendChild(docLink);\n",
              "        }\n",
              "      </script>\n",
              "    </div>\n",
              "  </div>\n",
              "  "
            ]
          },
          "metadata": {},
          "execution_count": 164
        }
      ]
    },
    {
      "cell_type": "code",
      "metadata": {
        "id": "_CyhFf6J0aNA"
      },
      "source": [
        "final_df_results = pd.merge(test.set_index('ds')[['y']], forecast_results[['yhat']], left_index=True, right_index=True, how='inner')"
      ],
      "execution_count": 137,
      "outputs": []
    },
    {
      "cell_type": "code",
      "source": [
        "final_df_results"
      ],
      "metadata": {
        "id": "K1ir2PoADwEd",
        "outputId": "f7446625-85b8-474a-da08-4e85b62bd7c4",
        "colab": {
          "base_uri": "https://localhost:8080/",
          "height": 582
        }
      },
      "execution_count": 138,
      "outputs": [
        {
          "output_type": "execute_result",
          "data": {
            "text/plain": [
              "                   y      yhat\n",
              "ds                            \n",
              "2022-05-24  1.068205  1.051035\n",
              "2022-05-24  1.068205  1.051035\n",
              "2022-05-25  1.073653  1.050938\n",
              "2022-05-25  1.073653  1.050938\n",
              "2022-05-26  1.068661  1.050566\n",
              "2022-05-26  1.068661  1.050566\n",
              "2022-05-27  1.073295  1.050172\n",
              "2022-05-27  1.073295  1.050172\n",
              "2022-05-30  1.073146  1.049108\n",
              "2022-05-30  1.073146  1.049108\n",
              "2022-05-31  1.077354  1.048723\n",
              "2022-05-31  1.077354  1.048723\n",
              "2022-06-01  1.073411  1.048395\n",
              "2022-06-01  1.073411  1.048395\n",
              "2022-06-06  1.072605  1.044937\n",
              "2022-06-06  1.072605  1.044937"
            ],
            "text/html": [
              "\n",
              "  <div id=\"df-32ca3cec-dcab-4476-9b59-7560183dcde8\">\n",
              "    <div class=\"colab-df-container\">\n",
              "      <div>\n",
              "<style scoped>\n",
              "    .dataframe tbody tr th:only-of-type {\n",
              "        vertical-align: middle;\n",
              "    }\n",
              "\n",
              "    .dataframe tbody tr th {\n",
              "        vertical-align: top;\n",
              "    }\n",
              "\n",
              "    .dataframe thead th {\n",
              "        text-align: right;\n",
              "    }\n",
              "</style>\n",
              "<table border=\"1\" class=\"dataframe\">\n",
              "  <thead>\n",
              "    <tr style=\"text-align: right;\">\n",
              "      <th></th>\n",
              "      <th>y</th>\n",
              "      <th>yhat</th>\n",
              "    </tr>\n",
              "    <tr>\n",
              "      <th>ds</th>\n",
              "      <th></th>\n",
              "      <th></th>\n",
              "    </tr>\n",
              "  </thead>\n",
              "  <tbody>\n",
              "    <tr>\n",
              "      <th>2022-05-24</th>\n",
              "      <td>1.068205</td>\n",
              "      <td>1.051035</td>\n",
              "    </tr>\n",
              "    <tr>\n",
              "      <th>2022-05-24</th>\n",
              "      <td>1.068205</td>\n",
              "      <td>1.051035</td>\n",
              "    </tr>\n",
              "    <tr>\n",
              "      <th>2022-05-25</th>\n",
              "      <td>1.073653</td>\n",
              "      <td>1.050938</td>\n",
              "    </tr>\n",
              "    <tr>\n",
              "      <th>2022-05-25</th>\n",
              "      <td>1.073653</td>\n",
              "      <td>1.050938</td>\n",
              "    </tr>\n",
              "    <tr>\n",
              "      <th>2022-05-26</th>\n",
              "      <td>1.068661</td>\n",
              "      <td>1.050566</td>\n",
              "    </tr>\n",
              "    <tr>\n",
              "      <th>2022-05-26</th>\n",
              "      <td>1.068661</td>\n",
              "      <td>1.050566</td>\n",
              "    </tr>\n",
              "    <tr>\n",
              "      <th>2022-05-27</th>\n",
              "      <td>1.073295</td>\n",
              "      <td>1.050172</td>\n",
              "    </tr>\n",
              "    <tr>\n",
              "      <th>2022-05-27</th>\n",
              "      <td>1.073295</td>\n",
              "      <td>1.050172</td>\n",
              "    </tr>\n",
              "    <tr>\n",
              "      <th>2022-05-30</th>\n",
              "      <td>1.073146</td>\n",
              "      <td>1.049108</td>\n",
              "    </tr>\n",
              "    <tr>\n",
              "      <th>2022-05-30</th>\n",
              "      <td>1.073146</td>\n",
              "      <td>1.049108</td>\n",
              "    </tr>\n",
              "    <tr>\n",
              "      <th>2022-05-31</th>\n",
              "      <td>1.077354</td>\n",
              "      <td>1.048723</td>\n",
              "    </tr>\n",
              "    <tr>\n",
              "      <th>2022-05-31</th>\n",
              "      <td>1.077354</td>\n",
              "      <td>1.048723</td>\n",
              "    </tr>\n",
              "    <tr>\n",
              "      <th>2022-06-01</th>\n",
              "      <td>1.073411</td>\n",
              "      <td>1.048395</td>\n",
              "    </tr>\n",
              "    <tr>\n",
              "      <th>2022-06-01</th>\n",
              "      <td>1.073411</td>\n",
              "      <td>1.048395</td>\n",
              "    </tr>\n",
              "    <tr>\n",
              "      <th>2022-06-06</th>\n",
              "      <td>1.072605</td>\n",
              "      <td>1.044937</td>\n",
              "    </tr>\n",
              "    <tr>\n",
              "      <th>2022-06-06</th>\n",
              "      <td>1.072605</td>\n",
              "      <td>1.044937</td>\n",
              "    </tr>\n",
              "  </tbody>\n",
              "</table>\n",
              "</div>\n",
              "      <button class=\"colab-df-convert\" onclick=\"convertToInteractive('df-32ca3cec-dcab-4476-9b59-7560183dcde8')\"\n",
              "              title=\"Convert this dataframe to an interactive table.\"\n",
              "              style=\"display:none;\">\n",
              "        \n",
              "  <svg xmlns=\"http://www.w3.org/2000/svg\" height=\"24px\"viewBox=\"0 0 24 24\"\n",
              "       width=\"24px\">\n",
              "    <path d=\"M0 0h24v24H0V0z\" fill=\"none\"/>\n",
              "    <path d=\"M18.56 5.44l.94 2.06.94-2.06 2.06-.94-2.06-.94-.94-2.06-.94 2.06-2.06.94zm-11 1L8.5 8.5l.94-2.06 2.06-.94-2.06-.94L8.5 2.5l-.94 2.06-2.06.94zm10 10l.94 2.06.94-2.06 2.06-.94-2.06-.94-.94-2.06-.94 2.06-2.06.94z\"/><path d=\"M17.41 7.96l-1.37-1.37c-.4-.4-.92-.59-1.43-.59-.52 0-1.04.2-1.43.59L10.3 9.45l-7.72 7.72c-.78.78-.78 2.05 0 2.83L4 21.41c.39.39.9.59 1.41.59.51 0 1.02-.2 1.41-.59l7.78-7.78 2.81-2.81c.8-.78.8-2.07 0-2.86zM5.41 20L4 18.59l7.72-7.72 1.47 1.35L5.41 20z\"/>\n",
              "  </svg>\n",
              "      </button>\n",
              "      \n",
              "  <style>\n",
              "    .colab-df-container {\n",
              "      display:flex;\n",
              "      flex-wrap:wrap;\n",
              "      gap: 12px;\n",
              "    }\n",
              "\n",
              "    .colab-df-convert {\n",
              "      background-color: #E8F0FE;\n",
              "      border: none;\n",
              "      border-radius: 50%;\n",
              "      cursor: pointer;\n",
              "      display: none;\n",
              "      fill: #1967D2;\n",
              "      height: 32px;\n",
              "      padding: 0 0 0 0;\n",
              "      width: 32px;\n",
              "    }\n",
              "\n",
              "    .colab-df-convert:hover {\n",
              "      background-color: #E2EBFA;\n",
              "      box-shadow: 0px 1px 2px rgba(60, 64, 67, 0.3), 0px 1px 3px 1px rgba(60, 64, 67, 0.15);\n",
              "      fill: #174EA6;\n",
              "    }\n",
              "\n",
              "    [theme=dark] .colab-df-convert {\n",
              "      background-color: #3B4455;\n",
              "      fill: #D2E3FC;\n",
              "    }\n",
              "\n",
              "    [theme=dark] .colab-df-convert:hover {\n",
              "      background-color: #434B5C;\n",
              "      box-shadow: 0px 1px 3px 1px rgba(0, 0, 0, 0.15);\n",
              "      filter: drop-shadow(0px 1px 2px rgba(0, 0, 0, 0.3));\n",
              "      fill: #FFFFFF;\n",
              "    }\n",
              "  </style>\n",
              "\n",
              "      <script>\n",
              "        const buttonEl =\n",
              "          document.querySelector('#df-32ca3cec-dcab-4476-9b59-7560183dcde8 button.colab-df-convert');\n",
              "        buttonEl.style.display =\n",
              "          google.colab.kernel.accessAllowed ? 'block' : 'none';\n",
              "\n",
              "        async function convertToInteractive(key) {\n",
              "          const element = document.querySelector('#df-32ca3cec-dcab-4476-9b59-7560183dcde8');\n",
              "          const dataTable =\n",
              "            await google.colab.kernel.invokeFunction('convertToInteractive',\n",
              "                                                     [key], {});\n",
              "          if (!dataTable) return;\n",
              "\n",
              "          const docLinkHtml = 'Like what you see? Visit the ' +\n",
              "            '<a target=\"_blank\" href=https://colab.research.google.com/notebooks/data_table.ipynb>data table notebook</a>'\n",
              "            + ' to learn more about interactive tables.';\n",
              "          element.innerHTML = '';\n",
              "          dataTable['output_type'] = 'display_data';\n",
              "          await google.colab.output.renderOutput(dataTable, element);\n",
              "          const docLink = document.createElement('div');\n",
              "          docLink.innerHTML = docLinkHtml;\n",
              "          element.appendChild(docLink);\n",
              "        }\n",
              "      </script>\n",
              "    </div>\n",
              "  </div>\n",
              "  "
            ]
          },
          "metadata": {},
          "execution_count": 138
        }
      ]
    },
    {
      "cell_type": "code",
      "metadata": {
        "id": "-mPSyYi11CLM"
      },
      "source": [
        "# Errors\n",
        "def calc_errors(test, preds):\n",
        "    percentiles = [5, 25, 50, 75, 95]\n",
        "    elementwise_mae = np.absolute(np.subtract(preds, test))\n",
        "    # Mean mae https://en.wikipedia.org/wiki/Mean_absolute_error\n",
        "    mean_mae = sum(elementwise_mae) / len(test)\n",
        "    print(f\"Mean MAE: {mean_mae:.2f}\")\n",
        "    percent_mae = sum(elementwise_mae) / sum(test)\n",
        "    print(f\"MAE%: {percent_mae * 100:.2f}%\")\n",
        "    # Rmse https://en.wikipedia.org/wiki/Root-mean-square_deviation\n",
        "    rmse = np.sqrt(np.mean(np.power(np.subtract(preds, test), 2)))\n",
        "    print(f\"RMSE: {rmse:.2f}\")\n",
        "    # Bias https://en.wikipedia.org/wiki/Bias_(statistics)\n",
        "    bias = np.mean(np.subtract(preds, test))\n",
        "    print(f\"Bias: {bias:.2f}\\n\")\n",
        "    # Mae distrib\n",
        "    distr_mae = []\n",
        "    for perc in percentiles:\n",
        "        temp_mae = np.percentile(elementwise_mae, perc)\n",
        "        distr_mae.append(temp_mae)\n",
        "        print(f\"{perc}th percetile MAE: {temp_mae:.2f}\")\n",
        "    # Plot MAE distribution\n",
        "    plt.figure(figsize=(8, 8))\n",
        "    plt.title('MAE distribution')\n",
        "    plt.xlabel('MAE')\n",
        "    plt.ylabel('Count')\n",
        "    # Plot distr\n",
        "    plt.hist(elementwise_mae, bins=30)\n",
        "    # plot mean MAE\n",
        "    plt.axvline(x=mean_mae, label='Mean MAE', c='r', linestyle='-')\n",
        "    # plot percentiles\n",
        "    line_types = [':', '-.', '--', '-.', ':']\n",
        "    for xc, lt, p in zip(distr_mae, line_types, percentiles):\n",
        "        plt.axvline(x=xc, label='{}th percentile MAE'.format(p), c='r', linestyle=lt)\n",
        "    plt.legend()\n",
        "    plt.show()\n"
      ],
      "execution_count": 139,
      "outputs": []
    },
    {
      "cell_type": "code",
      "source": [
        "import matplotlib.pyplot as plt"
      ],
      "metadata": {
        "id": "3Q3HSXgxEEKW"
      },
      "execution_count": 145,
      "outputs": []
    },
    {
      "cell_type": "code",
      "metadata": {
        "colab": {
          "base_uri": "https://localhost:8080/",
          "height": 687
        },
        "outputId": "b0ed73a6-9178-4776-cb3c-3aecadd2e0db",
        "id": "Ha5yxbvy1CLN"
      },
      "source": [
        "# Analyze the forecast error\n",
        "calc_errors(final_df_results['y'].values, final_df_results['yhat'].values)\n"
      ],
      "execution_count": 146,
      "outputs": [
        {
          "output_type": "stream",
          "name": "stdout",
          "text": [
            "Mean MAE: 0.02\n",
            "MAE%: 2.17%\n",
            "RMSE: 0.02\n",
            "Bias: -0.02\n",
            "\n",
            "5th percetile MAE: 0.02\n",
            "25th percetile MAE: 0.02\n",
            "50th percetile MAE: 0.02\n",
            "75th percetile MAE: 0.03\n",
            "95th percetile MAE: 0.03\n"
          ]
        },
        {
          "output_type": "display_data",
          "data": {
            "text/plain": [
              "<Figure size 576x576 with 1 Axes>"
            ],
            "image/png": "[encoded data removed]"
          },
          "metadata": {
            "needs_background": "light"
          }
        }
      ]
    },
    {
      "cell_type": "code",
      "metadata": {
        "colab": {
          "base_uri": "https://localhost:8080/",
          "height": 657
        },
        "outputId": "1fb24197-0e73-4da8-c209-47ba88922e7d",
        "id": "u6qHKXSj1CLO"
      },
      "source": [
        "# explore the components of the fitted model\n",
        "fig = m.plot_components(forecast)"
      ],
      "execution_count": 147,
      "outputs": [
        {
          "output_type": "display_data",
          "data": {
            "text/plain": [
              "<Figure size 648x648 with 3 Axes>"
            ],
            "image/png": "[encoded data removed]"
          },
          "metadata": {}
        }
      ]
    },
    {
      "cell_type": "code",
      "metadata": {
        "colab": {
          "base_uri": "https://localhost:8080/",
          "height": 542
        },
        "outputId": "1ab333fc-e1f4-4984-a5d5-b84e2a884ce0",
        "id": "GiLbYTN01CLP"
      },
      "source": [
        "import plotly.graph_objects as go\n",
        "fig = go.Figure()\n",
        "\n",
        "fig.add_trace(go.Scatter(x=final_df_results.index, y=final_df_results['y'],\n",
        "                    mode='lines+markers',\n",
        "                    name='Real Values'))\n",
        "\n",
        "fig.add_trace(go.Scatter(x=final_df_results.index, y=final_df_results['yhat'],\n",
        "                    mode='lines+markers',\n",
        "                    name='Predicted Values'))\n",
        "\n",
        "fig.update_layout(template='plotly_white')\n",
        "fig.show()"
      ],
      "execution_count": 149,
      "outputs": [
        {
          "output_type": "display_data",
          "data": {
            "text/html": [
              "<html>\n",
              "<head><meta charset=\"utf-8\" /></head>\n",
              "<body>\n",
              "    <div>            <script src=\"https://cdnjs.cloudflare.com/ajax/libs/mathjax/2.7.5/MathJax.js?config=TeX-AMS-MML_SVG\"></script><script type=\"text/javascript\">if (window.MathJax) {MathJax.Hub.Config({SVG: {font: \"STIX-Web\"}});}</script>                <script type=\"text/javascript\">window.PlotlyConfig = {MathJaxConfig: 'local'};</script>\n",
              "        <script src=\"https://cdn.plot.ly/plotly-2.8.3.min.js\"></script>                <div id=\"d3b334eb-0ebe-4e24-aecb-5936356fd070\" class=\"plotly-graph-div\" style=\"height:525px; width:100%;\"></div>            <script type=\"text/javascript\">                                    window.PLOTLYENV=window.PLOTLYENV || {};                                    if (document.getElementById(\"d3b334eb-0ebe-4e24-aecb-5936356fd070\")) {                    Plotly.newPlot(                        \"d3b334eb-0ebe-4e24-aecb-5936356fd070\",                        [{\"mode\":\"lines+markers\",\"name\":\"Real Values\",\"x\":[\"2022-05-24T00:00:00\",\"2022-05-24T00:00:00\",\"2022-05-25T00:00:00\",\"2022-05-25T00:00:00\",\"2022-05-26T00:00:00\",\"2022-05-26T00:00:00\",\"2022-05-27T00:00:00\",\"2022-05-27T00:00:00\",\"2022-05-30T00:00:00\",\"2022-05-30T00:00:00\",\"2022-05-31T00:00:00\",\"2022-05-31T00:00:00\",\"2022-06-01T00:00:00\",\"2022-06-01T00:00:00\",\"2022-06-06T00:00:00\",\"2022-06-06T00:00:00\"],\"y\":[1.0682048797607422,1.0682048797607422,1.0736525058746338,1.0736525058746338,1.0686614513397217,1.0686614513397217,1.0732953548431396,1.0732953548431396,1.0731456279754639,1.0731456279754639,1.0773539543151855,1.0773539543151855,1.0734105110168457,1.0734105110168457,1.0726046562194824,1.0726046562194824],\"type\":\"scatter\"},{\"mode\":\"lines+markers\",\"name\":\"Predicted Values\",\"x\":[\"2022-05-24T00:00:00\",\"2022-05-24T00:00:00\",\"2022-05-25T00:00:00\",\"2022-05-25T00:00:00\",\"2022-05-26T00:00:00\",\"2022-05-26T00:00:00\",\"2022-05-27T00:00:00\",\"2022-05-27T00:00:00\",\"2022-05-30T00:00:00\",\"2022-05-30T00:00:00\",\"2022-05-31T00:00:00\",\"2022-05-31T00:00:00\",\"2022-06-01T00:00:00\",\"2022-06-01T00:00:00\",\"2022-06-06T00:00:00\",\"2022-06-06T00:00:00\"],\"y\":[1.0510351127077537,1.0510351127077537,1.0509384110026745,1.0509384110026745,1.0505656884678345,1.0505656884678345,1.0501723415226103,1.0501723415226103,1.0491081979679513,1.0491081979679513,1.0487229210101772,1.0487229210101772,1.0483950941460607,1.0483950941460607,1.044936897495465,1.044936897495465],\"type\":\"scatter\"}],                        {\"template\":{\"data\":{\"barpolar\":[{\"marker\":{\"line\":{\"color\":\"white\",\"width\":0.5},\"pattern\":{\"fillmode\":\"overlay\",\"size\":10,\"solidity\":0.2}},\"type\":\"barpolar\"}],\"bar\":[{\"error_x\":{\"color\":\"#2a3f5f\"},\"error_y\":{\"color\":\"#2a3f5f\"},\"marker\":{\"line\":{\"color\":\"white\",\"width\":0.5},\"pattern\":{\"fillmode\":\"overlay\",\"size\":10,\"solidity\":0.2}},\"type\":\"bar\"}],\"carpet\":[{\"aaxis\":{\"endlinecolor\":\"#2a3f5f\",\"gridcolor\":\"#C8D4E3\",\"linecolor\":\"#C8D4E3\",\"minorgridcolor\":\"#C8D4E3\",\"startlinecolor\":\"#2a3f5f\"},\"baxis\":{\"endlinecolor\":\"#2a3f5f\",\"gridcolor\":\"#C8D4E3\",\"linecolor\":\"#C8D4E3\",\"minorgridcolor\":\"#C8D4E3\",\"startlinecolor\":\"#2a3f5f\"},\"type\":\"carpet\"}],\"choropleth\":[{\"colorbar\":{\"outlinewidth\":0,\"ticks\":\"\"},\"type\":\"choropleth\"}],\"contourcarpet\":[{\"colorbar\":{\"outlinewidth\":0,\"ticks\":\"\"},\"type\":\"contourcarpet\"}],\"contour\":[{\"colorbar\":{\"outlinewidth\":0,\"ticks\":\"\"},\"colorscale\":[[0.0,\"#0d0887\"],[0.1111111111111111,\"#46039f\"],[0.2222222222222222,\"#7201a8\"],[0.3333333333333333,\"#9c179e\"],[0.4444444444444444,\"#bd3786\"],[0.5555555555555556,\"#d8576b\"],[0.6666666666666666,\"#ed7953\"],[0.7777777777777778,\"#fb9f3a\"],[0.8888888888888888,\"#fdca26\"],[1.0,\"#f0f921\"]],\"type\":\"contour\"}],\"heatmapgl\":[{\"colorbar\":{\"outlinewidth\":0,\"ticks\":\"\"},\"colorscale\":[[0.0,\"#0d0887\"],[0.1111111111111111,\"#46039f\"],[0.2222222222222222,\"#7201a8\"],[0.3333333333333333,\"#9c179e\"],[0.4444444444444444,\"#bd3786\"],[0.5555555555555556,\"#d8576b\"],[0.6666666666666666,\"#ed7953\"],[0.7777777777777778,\"#fb9f3a\"],[0.8888888888888888,\"#fdca26\"],[1.0,\"#f0f921\"]],\"type\":\"heatmapgl\"}],\"heatmap\":[{\"colorbar\":{\"outlinewidth\":0,\"ticks\":\"\"},\"colorscale\":[[0.0,\"#0d0887\"],[0.1111111111111111,\"#46039f\"],[0.2222222222222222,\"#7201a8\"],[0.3333333333333333,\"#9c179e\"],[0.4444444444444444,\"#bd3786\"],[0.5555555555555556,\"#d8576b\"],[0.6666666666666666,\"#ed7953\"],[0.7777777777777778,\"#fb9f3a\"],[0.8888888888888888,\"#fdca26\"],[1.0,\"#f0f921\"]],\"type\":\"heatmap\"}],\"histogram2dcontour\":[{\"colorbar\":{\"outlinewidth\":0,\"ticks\":\"\"},\"colorscale\":[[0.0,\"#0d0887\"],[0.1111111111111111,\"#46039f\"],[0.2222222222222222,\"#7201a8\"],[0.3333333333333333,\"#9c179e\"],[0.4444444444444444,\"#bd3786\"],[0.5555555555555556,\"#d8576b\"],[0.6666666666666666,\"#ed7953\"],[0.7777777777777778,\"#fb9f3a\"],[0.8888888888888888,\"#fdca26\"],[1.0,\"#f0f921\"]],\"type\":\"histogram2dcontour\"}],\"histogram2d\":[{\"colorbar\":{\"outlinewidth\":0,\"ticks\":\"\"},\"colorscale\":[[0.0,\"#0d0887\"],[0.1111111111111111,\"#46039f\"],[0.2222222222222222,\"#7201a8\"],[0.3333333333333333,\"#9c179e\"],[0.4444444444444444,\"#bd3786\"],[0.5555555555555556,\"#d8576b\"],[0.6666666666666666,\"#ed7953\"],[0.7777777777777778,\"#fb9f3a\"],[0.8888888888888888,\"#fdca26\"],[1.0,\"#f0f921\"]],\"type\":\"histogram2d\"}],\"histogram\":[{\"marker\":{\"pattern\":{\"fillmode\":\"overlay\",\"size\":10,\"solidity\":0.2}},\"type\":\"histogram\"}],\"mesh3d\":[{\"colorbar\":{\"outlinewidth\":0,\"ticks\":\"\"},\"type\":\"mesh3d\"}],\"parcoords\":[{\"line\":{\"colorbar\":{\"outlinewidth\":0,\"ticks\":\"\"}},\"type\":\"parcoords\"}],\"pie\":[{\"automargin\":true,\"type\":\"pie\"}],\"scatter3d\":[{\"line\":{\"colorbar\":{\"outlinewidth\":0,\"ticks\":\"\"}},\"marker\":{\"colorbar\":{\"outlinewidth\":0,\"ticks\":\"\"}},\"type\":\"scatter3d\"}],\"scattercarpet\":[{\"marker\":{\"colorbar\":{\"outlinewidth\":0,\"ticks\":\"\"}},\"type\":\"scattercarpet\"}],\"scattergeo\":[{\"marker\":{\"colorbar\":{\"outlinewidth\":0,\"ticks\":\"\"}},\"type\":\"scattergeo\"}],\"scattergl\":[{\"marker\":{\"colorbar\":{\"outlinewidth\":0,\"ticks\":\"\"}},\"type\":\"scattergl\"}],\"scattermapbox\":[{\"marker\":{\"colorbar\":{\"outlinewidth\":0,\"ticks\":\"\"}},\"type\":\"scattermapbox\"}],\"scatterpolargl\":[{\"marker\":{\"colorbar\":{\"outlinewidth\":0,\"ticks\":\"\"}},\"type\":\"scatterpolargl\"}],\"scatterpolar\":[{\"marker\":{\"colorbar\":{\"outlinewidth\":0,\"ticks\":\"\"}},\"type\":\"scatterpolar\"}],\"scatter\":[{\"marker\":{\"colorbar\":{\"outlinewidth\":0,\"ticks\":\"\"}},\"type\":\"scatter\"}],\"scatterternary\":[{\"marker\":{\"colorbar\":{\"outlinewidth\":0,\"ticks\":\"\"}},\"type\":\"scatterternary\"}],\"surface\":[{\"colorbar\":{\"outlinewidth\":0,\"ticks\":\"\"},\"colorscale\":[[0.0,\"#0d0887\"],[0.1111111111111111,\"#46039f\"],[0.2222222222222222,\"#7201a8\"],[0.3333333333333333,\"#9c179e\"],[0.4444444444444444,\"#bd3786\"],[0.5555555555555556,\"#d8576b\"],[0.6666666666666666,\"#ed7953\"],[0.7777777777777778,\"#fb9f3a\"],[0.8888888888888888,\"#fdca26\"],[1.0,\"#f0f921\"]],\"type\":\"surface\"}],\"table\":[{\"cells\":{\"fill\":{\"color\":\"#EBF0F8\"},\"line\":{\"color\":\"white\"}},\"header\":{\"fill\":{\"color\":\"#C8D4E3\"},\"line\":{\"color\":\"white\"}},\"type\":\"table\"}]},\"layout\":{\"annotationdefaults\":{\"arrowcolor\":\"#2a3f5f\",\"arrowhead\":0,\"arrowwidth\":1},\"autotypenumbers\":\"strict\",\"coloraxis\":{\"colorbar\":{\"outlinewidth\":0,\"ticks\":\"\"}},\"colorscale\":{\"diverging\":[[0,\"#8e0152\"],[0.1,\"#c51b7d\"],[0.2,\"#de77ae\"],[0.3,\"#f1b6da\"],[0.4,\"#fde0ef\"],[0.5,\"#f7f7f7\"],[0.6,\"#e6f5d0\"],[0.7,\"#b8e186\"],[0.8,\"#7fbc41\"],[0.9,\"#4d9221\"],[1,\"#276419\"]],\"sequential\":[[0.0,\"#0d0887\"],[0.1111111111111111,\"#46039f\"],[0.2222222222222222,\"#7201a8\"],[0.3333333333333333,\"#9c179e\"],[0.4444444444444444,\"#bd3786\"],[0.5555555555555556,\"#d8576b\"],[0.6666666666666666,\"#ed7953\"],[0.7777777777777778,\"#fb9f3a\"],[0.8888888888888888,\"#fdca26\"],[1.0,\"#f0f921\"]],\"sequentialminus\":[[0.0,\"#0d0887\"],[0.1111111111111111,\"#46039f\"],[0.2222222222222222,\"#7201a8\"],[0.3333333333333333,\"#9c179e\"],[0.4444444444444444,\"#bd3786\"],[0.5555555555555556,\"#d8576b\"],[0.6666666666666666,\"#ed7953\"],[0.7777777777777778,\"#fb9f3a\"],[0.8888888888888888,\"#fdca26\"],[1.0,\"#f0f921\"]]},\"colorway\":[\"#636efa\",\"#EF553B\",\"#00cc96\",\"#ab63fa\",\"#FFA15A\",\"#19d3f3\",\"#FF6692\",\"#B6E880\",\"#FF97FF\",\"#FECB52\"],\"font\":{\"color\":\"#2a3f5f\"},\"geo\":{\"bgcolor\":\"white\",\"lakecolor\":\"white\",\"landcolor\":\"white\",\"showlakes\":true,\"showland\":true,\"subunitcolor\":\"#C8D4E3\"},\"hoverlabel\":{\"align\":\"left\"},\"hovermode\":\"closest\",\"mapbox\":{\"style\":\"light\"},\"paper_bgcolor\":\"white\",\"plot_bgcolor\":\"white\",\"polar\":{\"angularaxis\":{\"gridcolor\":\"#EBF0F8\",\"linecolor\":\"#EBF0F8\",\"ticks\":\"\"},\"bgcolor\":\"white\",\"radialaxis\":{\"gridcolor\":\"#EBF0F8\",\"linecolor\":\"#EBF0F8\",\"ticks\":\"\"}},\"scene\":{\"xaxis\":{\"backgroundcolor\":\"white\",\"gridcolor\":\"#DFE8F3\",\"gridwidth\":2,\"linecolor\":\"#EBF0F8\",\"showbackground\":true,\"ticks\":\"\",\"zerolinecolor\":\"#EBF0F8\"},\"yaxis\":{\"backgroundcolor\":\"white\",\"gridcolor\":\"#DFE8F3\",\"gridwidth\":2,\"linecolor\":\"#EBF0F8\",\"showbackground\":true,\"ticks\":\"\",\"zerolinecolor\":\"#EBF0F8\"},\"zaxis\":{\"backgroundcolor\":\"white\",\"gridcolor\":\"#DFE8F3\",\"gridwidth\":2,\"linecolor\":\"#EBF0F8\",\"showbackground\":true,\"ticks\":\"\",\"zerolinecolor\":\"#EBF0F8\"}},\"shapedefaults\":{\"line\":{\"color\":\"#2a3f5f\"}},\"ternary\":{\"aaxis\":{\"gridcolor\":\"#DFE8F3\",\"linecolor\":\"#A2B1C6\",\"ticks\":\"\"},\"baxis\":{\"gridcolor\":\"#DFE8F3\",\"linecolor\":\"#A2B1C6\",\"ticks\":\"\"},\"bgcolor\":\"white\",\"caxis\":{\"gridcolor\":\"#DFE8F3\",\"linecolor\":\"#A2B1C6\",\"ticks\":\"\"}},\"title\":{\"x\":0.05},\"xaxis\":{\"automargin\":true,\"gridcolor\":\"#EBF0F8\",\"linecolor\":\"#EBF0F8\",\"ticks\":\"\",\"title\":{\"standoff\":15},\"zerolinecolor\":\"#EBF0F8\",\"zerolinewidth\":2},\"yaxis\":{\"automargin\":true,\"gridcolor\":\"#EBF0F8\",\"linecolor\":\"#EBF0F8\",\"ticks\":\"\",\"title\":{\"standoff\":15},\"zerolinecolor\":\"#EBF0F8\",\"zerolinewidth\":2}}}},                        {\"responsive\": true}                    ).then(function(){\n",
              "                            \n",
              "var gd = document.getElementById('d3b334eb-0ebe-4e24-aecb-5936356fd070');\n",
              "var x = new MutationObserver(function (mutations, observer) {{\n",
              "        var display = window.getComputedStyle(gd).display;\n",
              "        if (!display || display === 'none') {{\n",
              "            console.log([gd, 'removed!']);\n",
              "            Plotly.purge(gd);\n",
              "            observer.disconnect();\n",
              "        }}\n",
              "}});\n",
              "\n",
              "// Listen for the removal of the full notebook cells\n",
              "var notebookContainer = gd.closest('#notebook-container');\n",
              "if (notebookContainer) {{\n",
              "    x.observe(notebookContainer, {childList: true});\n",
              "}}\n",
              "\n",
              "// Listen for the clearing of the current output cell\n",
              "var outputEl = gd.closest('.output');\n",
              "if (outputEl) {{\n",
              "    x.observe(outputEl, {childList: true});\n",
              "}}\n",
              "\n",
              "                        })                };                            </script>        </div>\n",
              "</body>\n",
              "</html>"
            ]
          },
          "metadata": {}
        }
      ]
    },
    {
      "cell_type": "code",
      "source": [
        "\"\"\"\n",
        "          Locatelli\n",
        "          Ranieri\n",
        "          Nakka\n",
        "\"\"\""
      ],
      "metadata": {
        "id": "hqU0_uwIJ77d"
      },
      "execution_count": null,
      "outputs": []
    }
  ],
  "metadata": {
    "accelerator": "GPU",
    "colab": {
      "collapsed_sections": [],
      "name": "WITHOUT_solution_TEXT_CLASSIFICATION.ipynb",
      "provenance": [],
      "include_colab_link": true
    },
    "kernelspec": {
      "display_name": "Python 3 (ipykernel)",
      "language": "python",
      "name": "python3"
    },
    "language_info": {
      "codemirror_mode": {
        "name": "ipython",
        "version": 3
      },
      "file_extension": ".py",
      "mimetype": "text/x-python",
      "name": "python",
      "nbconvert_exporter": "python",
      "pygments_lexer": "ipython3",
      "version": "3.9.12"
    }
  },
  "nbformat": 4,
  "nbformat_minor": 0
}